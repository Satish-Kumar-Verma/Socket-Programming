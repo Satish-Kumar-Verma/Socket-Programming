{
 "cells": [
  {
   "cell_type": "markdown",
   "metadata": {},
   "source": [
    "### TCPClientProgram"
   ]
  },
  {
   "cell_type": "code",
   "execution_count": null,
   "metadata": {},
   "outputs": [],
   "source": [
    "import socket\n",
    "import datetime\n",
    "import sys"
   ]
  },
  {
   "cell_type": "markdown",
   "metadata": {},
   "source": [
    "* Imports the socket module for creating a socket connection.\n",
    "* Imports the datetime module for formatting and working with timestamps.\n",
    "* Imports the sys module for handling system-level operations."
   ]
  },
  {
   "cell_type": "code",
   "execution_count": null,
   "metadata": {},
   "outputs": [],
   "source": [
    "def perform_survey(conn_id):"
   ]
  },
  {
   "cell_type": "markdown",
   "metadata": {},
   "source": [
    "A function to perform the survey, the client's socket object is passed as an argument.\n",
    "\n",
    "* It takes the user's survey input, \n",
    "* Packages it into a string, and \n",
    "* Sends it to the server.\n",
    "\n",
    "\n"
   ]
  },
  {
   "cell_type": "code",
   "execution_count": null,
   "metadata": {},
   "outputs": [],
   "source": [
    "survey_data = f\"{name},{rating},{rating_time}"
   ]
  },
  {
   "cell_type": "markdown",
   "metadata": {},
   "source": [
    "The survey data is stored in the survey_data variable, formatted as a comma-separated string."
   ]
  },
  {
   "cell_type": "code",
   "execution_count": null,
   "metadata": {},
   "outputs": [],
   "source": [
    "conn_id.send(survey_data.encode('utf-8'))"
   ]
  },
  {
   "cell_type": "markdown",
   "metadata": {},
   "source": [
    "The survey data is sent to the server as a utf-8 encoded string."
   ]
  },
  {
   "cell_type": "code",
   "execution_count": null,
   "metadata": {},
   "outputs": [],
   "source": [
    "transfer_flag = conn_id.recv(1024).decode('utf-8')"
   ]
  },
  {
   "cell_type": "markdown",
   "metadata": {},
   "source": [
    "The server sends a response indicating\n",
    "whether the data was successfully received or not,\n",
    "this response is stored in the transfer_flag variable \n",
    "as a decoded utf-8 string."
   ]
  },
  {
   "cell_type": "code",
   "execution_count": null,
   "metadata": {},
   "outputs": [],
   "source": [
    "def main():\n",
    "    server_ip, port = input(\"Enter the server ip and port number separated by a space : \").split()        "
   ]
  },
  {
   "cell_type": "markdown",
   "metadata": {},
   "source": [
    "The code prompts the user to input the server IP and port number, which are stored in the server_ip and port variables respectively."
   ]
  },
  {
   "cell_type": "code",
   "execution_count": null,
   "metadata": {},
   "outputs": [],
   "source": [
    "with socket.socket(socket.AF_INET, socket.SOCK_STREAM) as client_socket:"
   ]
  },
  {
   "cell_type": "markdown",
   "metadata": {},
   "source": [
    "The line of code creates Client's socket,\n",
    "* First Parameter indicates underlying network is using IPv4\n",
    "* Second Parameter indicates it's a TCP socket"
   ]
  },
  {
   "cell_type": "code",
   "execution_count": null,
   "metadata": {},
   "outputs": [],
   "source": [
    "client_socket.connect((server_ip, port))"
   ]
  },
  {
   "cell_type": "markdown",
   "metadata": {},
   "source": [
    "The code initiates the TCP connection between client and Server.\n",
    "After execution this code, three-way handshake is performed, and\n",
    "TCP connection is established."
   ]
  },
  {
   "cell_type": "code",
   "execution_count": null,
   "metadata": {},
   "outputs": [],
   "source": [
    "connection_status = client_socket.recv(1024).decode('utf-8')\n",
    "diff = (current_time_2 - current_time).total_seconds() * 1000.0"
   ]
  },
  {
   "cell_type": "markdown",
   "metadata": {},
   "source": [
    "Receive the connection status message from the server and calculates the round-trip time (RTT) between the client and server."
   ]
  },
  {
   "cell_type": "code",
   "execution_count": null,
   "metadata": {},
   "outputs": [],
   "source": [
    "client_socket.send(\"IaMnOrMaL\".encode('utf-8'))\n",
    "perform_survey(client_socket)"
   ]
  },
  {
   "cell_type": "markdown",
   "metadata": {},
   "source": [
    "The client then sends \"IaMnOrMaL\" message which is just a flag indicating that it is a customer. \n",
    "And then, the customer can perform the survey."
   ]
  },
  {
   "cell_type": "markdown",
   "metadata": {},
   "source": [
    "### TCPServerProgram"
   ]
  },
  {
   "cell_type": "code",
   "execution_count": null,
   "metadata": {},
   "outputs": [],
   "source": [
    "\n",
    "def main():\n",
    "    ip = 'localhost'\n",
    "    # ip = \"192.168.10.189\"\n",
    "    port = 9090\n",
    "    \n",
    "    with socket.socket(socket.AF_INET, socket.SOCK_STREAM) as server_socket:"
   ]
  },
  {
   "cell_type": "markdown",
   "metadata": {},
   "source": [
    "* Sets the IP address of the server to localhost.\n",
    "* Sets the port number on which the server will listen.\n",
    "* Create TCP server's socket"
   ]
  },
  {
   "cell_type": "code",
   "execution_count": null,
   "metadata": {},
   "outputs": [],
   "source": [
    "\n",
    "server_socket.bind((ip, port))"
   ]
  },
  {
   "cell_type": "markdown",
   "metadata": {},
   "source": [
    "Uses the bind() method to bind( tie ) the socket to the specified IP address and port number."
   ]
  },
  {
   "cell_type": "code",
   "execution_count": null,
   "metadata": {},
   "outputs": [],
   "source": [
    "\n",
    "server_socket.listen(1)\n",
    "print(f\"[+] Server is listening on port [{port}]...\")"
   ]
  },
  {
   "cell_type": "markdown",
   "metadata": {},
   "source": [
    "This line has the server listen for TCP connection requests from client.\n",
    "\n",
    "* Parameter specifies maximum number of queued connection ( at least 1 )."
   ]
  },
  {
   "cell_type": "code",
   "execution_count": null,
   "metadata": {},
   "outputs": [],
   "source": [
    "\n",
    "conn_id, address = server_socket.accept()"
   ]
  },
  {
   "cell_type": "markdown",
   "metadata": {},
   "source": [
    "Invoking accept() medthod, \n",
    "\n",
    "* Client and server perform the handshaking,\n",
    "* After completed, create a new socket in the server, called conn_id, dedicated to particular client.\n",
    "* With TCP connection established, Client and server can now send bytes to each other over the connection.\n"
   ]
  },
  {
   "cell_type": "code",
   "execution_count": null,
   "metadata": {},
   "outputs": [],
   "source": [
    "lock.acquire()\n",
    "number_of_clients += 1"
   ]
  },
  {
   "cell_type": "markdown",
   "metadata": {},
   "source": [
    "* A lock to prevent race conditions\n",
    "* The number of clients connected to the server is kept track of using the number_of_clients "
   ]
  },
  {
   "cell_type": "code",
   "execution_count": null,
   "metadata": {},
   "outputs": [],
   "source": [
    "\n",
    "server_socket.close()"
   ]
  },
  {
   "cell_type": "markdown",
   "metadata": {},
   "source": [
    "After storing survey data to our file from all users, we close the server_socket."
   ]
  }
 ],
 "metadata": {
  "kernelspec": {
   "display_name": "Python 3 (ipykernel)",
   "language": "python",
   "name": "python3"
  },
  "language_info": {
   "codemirror_mode": {
    "name": "ipython",
    "version": 3
   },
   "file_extension": ".py",
   "mimetype": "text/x-python",
   "name": "python",
   "nbconvert_exporter": "python",
   "pygments_lexer": "ipython3",
   "version": "3.10.6"
  }
 },
 "nbformat": 4,
 "nbformat_minor": 2
}
